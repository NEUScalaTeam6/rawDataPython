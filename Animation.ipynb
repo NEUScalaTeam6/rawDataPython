{
 "cells": [
  {
   "cell_type": "code",
   "execution_count": 32,
   "metadata": {
    "collapsed": true
   },
   "outputs": [],
   "source": [
    "import matplotlib.pyplot as plt, pandas as pd, numpy as np, matplotlib as mpl\n",
    "from __future__ import print_function\n",
    "\n",
    "mpl.rcParams['font.family'] = ['Bitstream Vera Sans']"
   ]
  },
  {
   "cell_type": "code",
   "execution_count": 31,
   "metadata": {
    "collapsed": true
   },
   "outputs": [],
   "source": [
    "import json #import json library\n",
    "json_data = open('E:/Baiduyun Download/chuichan/17 Spring/Scala/finalProject/curryZipped/0021500035.json') #import the data from wherever you saved it.\n",
    "data = json.load(json_data) #load the data"
   ]
  },
  {
   "cell_type": "code",
   "execution_count": 33,
   "metadata": {
    "collapsed": true
   },
   "outputs": [],
   "source": [
    "def acquire_gameData(data):\n",
    "    import requests\n",
    "    header_data = { #I pulled this header from the py goldsberry library\n",
    "        'Accept-Encoding': 'gzip, deflate, sdch',\n",
    "        'Accept-Language': 'en-US,en;q=0.8',\n",
    "        'Upgrade-Insecure-Requests': '1',\n",
    "        'User-Agent': 'Mozilla/5.0 (Windows NT 10.0; WOW64)'\\\n",
    "        ' AppleWebKit/537.36 (KHTML, like Gecko) Chrome/48.0.2564.82 '\\\n",
    "        'Safari/537.36',\n",
    "        'Accept': 'text/html,application/xhtml+xml,application/xml;q=0.9'\\\n",
    "        ',image/webp,*/*;q=0.8',\n",
    "        'Cache-Control': 'max-age=0',\n",
    "        'Connection': 'keep-alive'\n",
    "    }\n",
    "    game_url = 'http://stats.nba.com/stats/playbyplayv2?EndPeriod=0&EndRange=0&GameID='+data['gameid']+\\\n",
    "                '&RangeType=0&StartPeriod=0&StartRange=0' #address for querying the data\n",
    "    response = requests.get(game_url,headers = header_data) #go get the data\n",
    "    headers = response.json()['resultSets'][0]['headers'] #get headers of data\n",
    "    gameData = response.json()['resultSets'][0]['rowSet'] #get actual data from json object\n",
    "    df = pd.DataFrame(gameData, columns=headers) #turn the data into a pandas dataframe\n",
    "    df = df[[df.columns[1], df.columns[2],df.columns[7],df.columns[9],df.columns[18]]] #there's a ton of data here, so I trim  it doown\n",
    "    df['TEAM'] = df['PLAYER1_TEAM_ABBREVIATION']\n",
    "    df = df.drop('PLAYER1_TEAM_ABBREVIATION', 1)\n",
    "    return df"
   ]
  },
  {
   "cell_type": "code",
   "execution_count": 34,
   "metadata": {
    "collapsed": false
   },
   "outputs": [
    {
     "data": {
      "text/html": [
       "<div>\n",
       "<table border=\"1\" class=\"dataframe\">\n",
       "  <thead>\n",
       "    <tr style=\"text-align: right;\">\n",
       "      <th></th>\n",
       "      <th>EVENTNUM</th>\n",
       "      <th>EVENTMSGTYPE</th>\n",
       "      <th>HOMEDESCRIPTION</th>\n",
       "      <th>VISITORDESCRIPTION</th>\n",
       "      <th>TEAM</th>\n",
       "    </tr>\n",
       "  </thead>\n",
       "  <tbody>\n",
       "    <tr>\n",
       "      <th>0</th>\n",
       "      <td>0</td>\n",
       "      <td>12</td>\n",
       "      <td>None</td>\n",
       "      <td>None</td>\n",
       "      <td>None</td>\n",
       "    </tr>\n",
       "    <tr>\n",
       "      <th>1</th>\n",
       "      <td>1</td>\n",
       "      <td>10</td>\n",
       "      <td>Jump Ball Davis vs. Ezeli: Tip to Holiday</td>\n",
       "      <td>None</td>\n",
       "      <td>NOP</td>\n",
       "    </tr>\n",
       "    <tr>\n",
       "      <th>2</th>\n",
       "      <td>2</td>\n",
       "      <td>2</td>\n",
       "      <td>MISS Holiday 17' Jump Shot</td>\n",
       "      <td>None</td>\n",
       "      <td>NOP</td>\n",
       "    </tr>\n",
       "    <tr>\n",
       "      <th>3</th>\n",
       "      <td>3</td>\n",
       "      <td>4</td>\n",
       "      <td>None</td>\n",
       "      <td>Green REBOUND (Off:0 Def:1)</td>\n",
       "      <td>GSW</td>\n",
       "    </tr>\n",
       "    <tr>\n",
       "      <th>4</th>\n",
       "      <td>4</td>\n",
       "      <td>2</td>\n",
       "      <td>Davis BLOCK (1 BLK)</td>\n",
       "      <td>MISS Ezeli 2' Layup</td>\n",
       "      <td>GSW</td>\n",
       "    </tr>\n",
       "  </tbody>\n",
       "</table>\n",
       "</div>"
      ],
      "text/plain": [
       "   EVENTNUM  EVENTMSGTYPE                            HOMEDESCRIPTION  \\\n",
       "0         0            12                                       None   \n",
       "1         1            10  Jump Ball Davis vs. Ezeli: Tip to Holiday   \n",
       "2         2             2                 MISS Holiday 17' Jump Shot   \n",
       "3         3             4                                       None   \n",
       "4         4             2                        Davis BLOCK (1 BLK)   \n",
       "\n",
       "            VISITORDESCRIPTION  TEAM  \n",
       "0                         None  None  \n",
       "1                         None   NOP  \n",
       "2                         None   NOP  \n",
       "3  Green REBOUND (Off:0 Def:1)   GSW  \n",
       "4          MISS Ezeli 2' Layup   GSW  "
      ]
     },
     "execution_count": 34,
     "metadata": {},
     "output_type": "execute_result"
    }
   ],
   "source": [
    "df = acquire_gameData(data)\n",
    "df.head()"
   ]
  },
  {
   "cell_type": "code",
   "execution_count": 35,
   "metadata": {
    "collapsed": true
   },
   "outputs": [],
   "source": [
    "player_fields = data['events'][0]['home']['players'][0].keys()\n",
    "home_players = pd.DataFrame(data=[i for i in data['events'][0]['home']['players']], columns=player_fields)\n",
    "away_players = pd.DataFrame(data=[i for i in data['events'][0]['visitor']['players']], columns=player_fields)\n",
    "players = pd.merge(home_players, away_players, how='outer')\n",
    "jerseydict = dict(zip(players.playerid.values, players.jersey.values))"
   ]
  },
  {
   "cell_type": "code",
   "execution_count": 36,
   "metadata": {
    "collapsed": true
   },
   "outputs": [],
   "source": [
    "def draw_court(axis):\n",
    "    import matplotlib.image as mpimg\n",
    "    img = mpimg.imread('E:/Baiduyun Download/chuichan/17 Spring/Scala/finalProject/nba_court_T.png') #read image. I got this image from gmf05's github.\n",
    "    plt.imshow(img,extent=axis, zorder=0) #show the image. \n",
    "\n",
    "def animate(n): #matplotlib's animation function loops through a function n times that draws a different frame on each iteration\n",
    "    for i,ii in enumerate(player_xy[n]): #loop through all the players\n",
    "        player_circ[i].center = (ii[1], ii[2]) #change each players xy position\n",
    "        player_text[i].set_text(str(jerseydict[ii[0]])) #draw the text for each player. \n",
    "        player_text[i].set_x(ii[1]) #set the text x position\n",
    "        player_text[i].set_y(ii[2]) #set text y position\n",
    "    ball_circ.center = (ball_xy[n,0],ball_xy[n,1]) #change ball xy position\n",
    "    ball_circ.radius = 1.1 #i could change the size of the ball according to its height, but chose to keep this constant\n",
    "    return tuple(player_text) + tuple(player_circ) + (ball_circ,)\n",
    "\n",
    "def init(): #this is what matplotlib's animation will create before drawing the first frame. \n",
    "    for i in range(10): #set up players\n",
    "        player_text[i].set_text('')\n",
    "        ax.add_patch(player_circ[i])\n",
    "    ax.add_patch(ball_circ) #create ball\n",
    "    ax.axis('off') #turn off axis\n",
    "    dx = 5\n",
    "    plt.xlim([0-dx,100+dx]) #set axis\n",
    "    plt.ylim([0-dx,50+dx])\n",
    "    return tuple(player_text) + tuple(player_circ) + (ball_circ,)"
   ]
  },
  {
   "cell_type": "code",
   "execution_count": 37,
   "metadata": {
    "collapsed": false
   },
   "outputs": [
    {
     "data": {
      "text/html": [
       "<div>\n",
       "<table border=\"1\" class=\"dataframe\">\n",
       "  <thead>\n",
       "    <tr style=\"text-align: right;\">\n",
       "      <th></th>\n",
       "      <th>EVENTNUM</th>\n",
       "      <th>EVENTMSGTYPE</th>\n",
       "      <th>HOMEDESCRIPTION</th>\n",
       "      <th>VISITORDESCRIPTION</th>\n",
       "      <th>TEAM</th>\n",
       "    </tr>\n",
       "  </thead>\n",
       "  <tbody>\n",
       "    <tr>\n",
       "      <th>37</th>\n",
       "      <td>41</td>\n",
       "      <td>3</td>\n",
       "      <td>None</td>\n",
       "      <td>Thompson Free Throw 2 of 2 (4 PTS)</td>\n",
       "      <td>GSW</td>\n",
       "    </tr>\n",
       "  </tbody>\n",
       "</table>\n",
       "</div>"
      ],
      "text/plain": [
       "    EVENTNUM  EVENTMSGTYPE HOMEDESCRIPTION  \\\n",
       "37        41             3            None   \n",
       "\n",
       "                    VISITORDESCRIPTION TEAM  \n",
       "37  Thompson Free Throw 2 of 2 (4 PTS)  GSW  "
      ]
     },
     "execution_count": 37,
     "metadata": {},
     "output_type": "execute_result"
    }
   ],
   "source": [
    "df[37:38]\n"
   ]
  },
  {
   "cell_type": "code",
   "execution_count": 38,
   "metadata": {
    "collapsed": true
   },
   "outputs": [],
   "source": [
    "search_id = 41\n",
    "def find_moment(search_id):\n",
    "    for i,events in enumerate(data['events']):\n",
    "        if events['eventId'] == str(search_id):\n",
    "            finder = i\n",
    "            break\n",
    "    return finder\n",
    "\n",
    "event_num = find_moment(search_id)\n",
    "ball_xy = np.array([x[5][0][2:5] for x in data['events'][event_num]['moments']]) #create matrix of ball data\n",
    "player_xy = np.array([np.array(x[5][1:])[:,1:4] for x in data['events'][event_num]['moments']]) #create matrix of player data"
   ]
  },
  {
   "cell_type": "code",
   "execution_count": 39,
   "metadata": {
    "collapsed": false,
    "scrolled": false
   },
   "outputs": [],
   "source": [
    "import matplotlib.animation as animation\n",
    "\n",
    "fig = plt.figure(figsize=(15,7.5)) #create figure object\n",
    "ax = plt.gca() #create axis object\n",
    "\n",
    "draw_court([0,100,0,50]) #draw the court\n",
    "player_text = list(range(10)) #create player text vector\n",
    "player_circ = list(range(10)) #create player circle vector\n",
    "ball_circ = plt.Circle((0,0), 1.1, color=[1, 0.4, 0]) #create circle object for bal\n",
    "for i in range(10): #create circle object and text object for each player\n",
    "    col=['w','k'] if i<5 else ['k','w'] #color scheme\n",
    "    player_circ[i] = plt.Circle((0,0), 2.2, facecolor=col[0],edgecolor='k') #player circle\n",
    "    player_text[i] = ax.text(0,0,'',color=col[1],ha='center',va='center') #player jersey # (text)\n",
    "\n",
    "ani = animation.FuncAnimation(fig, animate, frames=np.arange(0,np.size(ball_xy,0)), init_func=init, blit=True, interval=5, repeat=False,\\\n",
    "                             save_count=0) #function for making video\n",
    "ani.save('E:/Baiduyun Download/chuichan/17 Spring/Scala/finalProject/Event_%d.mp4' % (search_id),dpi=250,fps=28) #function for saving video\n",
    "plt.close('all') #close the plot"
   ]
  },
  {
   "cell_type": "code",
   "execution_count": 28,
   "metadata": {
    "collapsed": true
   },
   "outputs": [],
   "source": [
    "a = 1"
   ]
  }
 ],
 "metadata": {
  "kernelspec": {
   "display_name": "Python [default]",
   "language": "python",
   "name": "python3"
  },
  "language_info": {
   "codemirror_mode": {
    "name": "ipython",
    "version": 3
   },
   "file_extension": ".py",
   "mimetype": "text/x-python",
   "name": "python",
   "nbconvert_exporter": "python",
   "pygments_lexer": "ipython3",
   "version": "3.5.2"
  }
 },
 "nbformat": 4,
 "nbformat_minor": 1
}
